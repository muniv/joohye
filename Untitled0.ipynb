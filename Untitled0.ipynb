{
  "nbformat": 4,
  "nbformat_minor": 0,
  "metadata": {
    "colab": {
      "name": "Untitled0.ipynb",
      "provenance": [],
      "authorship_tag": "ABX9TyNNu8/lAoCyKuTXj7xFZmAF"
    },
    "kernelspec": {
      "name": "python3",
      "display_name": "Python 3"
    },
    "language_info": {
      "name": "python"
    }
  },
  "cells": [
    {
      "cell_type": "markdown",
      "metadata": {
        "id": "KfCWuBBxkqfA"
      },
      "source": [
        "프로그래머스 - 크레인 인형뽑기 게임\n",
        "\n",
        "https://programmers.co.kr/learn/courses/30/lessons/64061"
      ]
    },
    {
      "cell_type": "code",
      "metadata": {
        "id": "1YU9BjBakdM8"
      },
      "source": [
        "def solution(board, moves):\n",
        "    answer = 0\n",
        "    dolls = []\n",
        "    del_count = 0\n",
        "    \n",
        "    for move in moves:\n",
        "        for idx, line in enumerate(board):\n",
        "            # 세로로 따라가다가 0이 아니면\n",
        "            if line[move - 1] != 0:\n",
        "                # 인형을 뽑는다.\n",
        "                doll = line[move - 1]\n",
        "                board[idx][move-1] = 0\n",
        "                # dolls에 마지막 인형이 같은 인형이면 넣지말구 dolls 마지막 인형도 제거\n",
        "                if len(dolls) > 0 and dolls[-1] == doll:\n",
        "                    del dolls[-1]\n",
        "                    del_count += 2\n",
        "                # 아니면 dolls에 인형 넣기\n",
        "                else:\n",
        "                    dolls.append(doll)\n",
        "                break\n",
        "        answer = del_count\n",
        "    return answer"
      ],
      "execution_count": null,
      "outputs": []
    },
    {
      "cell_type": "markdown",
      "metadata": {
        "id": "SBdKGGuAk6j-"
      },
      "source": [
        "실행결과\n",
        "\n",
        "\n",
        "\n",
        "```\n",
        "테스트 1 〉\t통과 (0.02ms, 10.3MB)\n",
        "테스트 2 〉\t통과 (0.04ms, 10.2MB)\n",
        "테스트 3 〉\t통과 (0.03ms, 10.3MB)\n",
        "테스트 4 〉\t통과 (2.14ms, 10.2MB)\n",
        "테스트 5 〉\t통과 (0.01ms, 10.3MB)\n",
        "테스트 6 〉\t통과 (0.02ms, 10.2MB)\n",
        "테스트 7 〉\t통과 (0.09ms, 10.2MB)\n",
        "테스트 8 〉\t통과 (0.55ms, 10.3MB)\n",
        "테스트 9 〉\t통과 (0.43ms, 10.2MB)\n",
        "테스트 10 〉\t통과 (0.54ms, 10.2MB)\n",
        "테스트 11 〉\t통과 (1.25ms, 10.3MB)\n",
        "```\n",
        "\n",
        "\n",
        "\n"
      ]
    },
    {
      "cell_type": "markdown",
      "metadata": {
        "id": "Q_27Ea7XlReP"
      },
      "source": [
        "문제를 잘못 읽어서 최종 인형 개수를 구하는 코드를 짜다가,\n",
        "마지막에 급하게 del_count변수를 만들어 사라진 인형 개수를 구했다.\n",
        "문제 잘 읽자!"
      ]
    }
  ]
}